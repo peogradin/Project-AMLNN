{
 "cells": [
  {
   "cell_type": "markdown",
   "id": "47f3c048",
   "metadata": {},
   "source": [
    "# Multi-asset forecasting with an LSTM\n",
    "\n",
    "This notebook contains code for training and forecasting 22 stocks from the OMXS30 index\n",
    "with an LSTM model."
   ]
  },
  {
   "cell_type": "markdown",
   "id": "ec25dbf1",
   "metadata": {},
   "source": [
    "Import data and create the dataloader"
   ]
  },
  {
   "cell_type": "code",
   "execution_count": null,
   "id": "8011c079",
   "metadata": {},
   "outputs": [],
   "source": [
    "import pandas as pd\n",
    "from data.MultiAssetDataset import MultiAssetDataset\n",
    "from torch.utils.data import DataLoader\n",
    "\n",
    "df = pd.read_csv(\"data/OMXS22_model_features_raw.csv\", index_col = \"Date\", parse_dates = True)\n",
    "\n",
    "tickers = df[\"Ticker\"].unique().tolist()\n",
    "features = [\"Return\"] #,\"Volume\",\"SMA20\",\"EMA20\",\"RSI14\"]\n",
    "target_col = \"Return\"\n",
    "window   = 60\n",
    "horizon  = 1\n",
    "\n",
    "scaler_means = df[features].mean()\n",
    "scaler_stds  = df[features].std()\n",
    "\n",
    "df[features] = (df[features] - scaler_means) / scaler_stds\n",
    "\n",
    "train_stop = pd.Timestamp(\"2020-01-01\")\n",
    "val_stop   = pd.Timestamp(\"2023-12-31\")\n",
    "\n",
    "df_train = df[df.index < train_stop].copy()\n",
    "df_val   = df[(df.index >= train_stop) & (df.index < val_stop)].copy()\n",
    "df_test  = df[df.index >= val_stop].copy()\n",
    "\n",
    "\n",
    "ds_train = MultiAssetDataset(df_train, tickers, features, target_col, window, horizon)\n",
    "ds_val   = MultiAssetDataset(df_val,   tickers, features, target_col, window, horizon)\n",
    "ds_test  = MultiAssetDataset(df_test,  tickers, features, target_col, window, horizon)\n",
    "\n",
    "train_loader = DataLoader(ds_train, batch_size=32, shuffle=True)\n",
    "val_loader   = DataLoader(ds_val,   batch_size=32)\n",
    "test_loader  = DataLoader(ds_test,  batch_size=32)"
   ]
  },
  {
   "cell_type": "code",
   "execution_count": null,
   "id": "9349b20c",
   "metadata": {},
   "outputs": [],
   "source": [
    "import torch\n",
    "import torch.nn as nn\n",
    "import torch.optim as optim\n",
    "from multi_asset_models.MultiAssetLSTM import MultiAssetLSTM\n",
    "from train.Trainer import Trainer\n",
    "\n",
    "model = MultiAssetLSTM(\n",
    "    n_assets=len(tickers),\n",
    "    n_features=len(features),\n",
    "    hidden_size=32,\n",
    "    num_layers=3,\n",
    "    dropout=0.3,\n",
    "    horizon=horizon\n",
    ")\n",
    "\n",
    "criterion = nn.L1Loss()\n",
    "optimizer = optim.Adam(model.parameters(), lr=1e-3)\n",
    "\n",
    "\n",
    "num_epochs   = 50\n",
    "patience     = num_epochs\n",
    "save_path    = \"best_multiasset_lstm.pt\"\n",
    "\n",
    "trainer = Trainer(model, optimizer, criterion)\n",
    "history = trainer.fit(\n",
    "    train_loader = train_loader,\n",
    "    val_loader   = val_loader,\n",
    "    epochs       = num_epochs,\n",
    "    patience     = patience,\n",
    "    save_path    = save_path\n",
    ")\n",
    "\n",
    "model.load_state_dict(torch.load(save_path))\n",
    "test_loss = trainer.eval_epoch(test_loader)\n",
    "print(f\"Test loss: {test_loss:.4f}\")"
   ]
  },
  {
   "cell_type": "code",
   "execution_count": null,
   "id": "c8274d1d",
   "metadata": {},
   "outputs": [],
   "source": [
    "import numpy as np\n",
    "import matplotlib.pyplot as plt\n",
    "\n",
    "epochs = np.arange(1, len(history['train_loss']) + 1)\n",
    "plt.figure()\n",
    "plt.plot(epochs, history['train_loss'], label='Train loss')\n",
    "if 'val_loss' in history:\n",
    "    plt.plot(epochs, history['val_loss'], label='Val loss')\n",
    "plt.xlabel('Epoch')\n",
    "plt.ylabel('MSE loss')\n",
    "plt.title('Training history')\n",
    "plt.legend()\n",
    "plt.show()"
   ]
  },
  {
   "cell_type": "code",
   "execution_count": null,
   "id": "5fcbd6aa",
   "metadata": {},
   "outputs": [],
   "source": [
    "model.eval()\n",
    "all_preds = []\n",
    "all_trues = []\n",
    "\n",
    "with torch.no_grad():\n",
    "    for Xb, yb in test_loader:\n",
    "        preds = model(Xb)  # (B, A, H)\n",
    "        # välj asset 0 och horizon 0 för plottning\n",
    "        all_preds.append(preds[:, 0, 0].cpu().numpy())\n",
    "        all_trues.append(yb[:, 0, 0].cpu().numpy())\n",
    "\n",
    "# Konkatenera\n",
    "\n",
    "all_preds = np.concatenate(all_preds)\n",
    "all_trues = np.concatenate(all_trues)\n",
    "\n",
    "all_preds = all_preds #* scaler_stds[target_col] + scaler_means[target_col]\n",
    "all_trues = all_trues #* scaler_stds[target_col] + scaler_means[target_col]\n",
    "\n",
    "\n",
    "n_plot = 2000\n",
    "plt.figure()\n",
    "plt.plot(all_trues[:n_plot], label='Actual')\n",
    "plt.plot(all_preds[:n_plot], label='Predicted')\n",
    "plt.xlabel('Sample index')\n",
    "plt.ylabel('Cumulative return (asset 0)')\n",
    "plt.title('Predicted vs Actual on Training Set (first asset)')\n",
    "plt.legend()\n",
    "plt.show()"
   ]
  },
  {
   "cell_type": "code",
   "execution_count": null,
   "id": "4dcc3b0b",
   "metadata": {},
   "outputs": [],
   "source": []
  }
 ],
 "metadata": {
  "kernelspec": {
   "display_name": "Python 3",
   "language": "python",
   "name": "python3"
  },
  "language_info": {
   "codemirror_mode": {
    "name": "ipython",
    "version": 3
   },
   "file_extension": ".py",
   "mimetype": "text/x-python",
   "name": "python",
   "nbconvert_exporter": "python",
   "pygments_lexer": "ipython3",
   "version": "3.10.11"
  }
 },
 "nbformat": 4,
 "nbformat_minor": 5
}
