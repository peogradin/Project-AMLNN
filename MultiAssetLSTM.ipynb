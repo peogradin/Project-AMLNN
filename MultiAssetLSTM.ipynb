{
 "cells": [
  {
   "cell_type": "markdown",
   "id": "47f3c048",
   "metadata": {},
   "source": [
    "# Multi-asset forecasting with an LSTM\n",
    "\n",
    "This notebook contains code for training and forecasting 22 stocks from the OMXS30 index\n",
    "with an LSTM model."
   ]
  },
  {
   "cell_type": "markdown",
   "id": "ec25dbf1",
   "metadata": {},
   "source": [
    "Import data and create the dataloader"
   ]
  },
  {
   "cell_type": "code",
   "execution_count": 10,
   "id": "8011c079",
   "metadata": {},
   "outputs": [],
   "source": [
    "import pandas as pd\n",
    "from data.MultiAssetDataset import MultiAssetDataset\n",
    "from torch.utils.data import DataLoader\n",
    "\n",
    "df = pd.read_csv(\"data/OMXS22_model_features_raw.csv\", index_col = \"Date\", parse_dates = True)\n",
    "\n",
    "tickers = df[\"Ticker\"].unique().tolist()\n",
    "features = [\"Return\",\"Volume\",\"SMA20\",\"EMA20\",\"RSI14\",\"ReturnVola20\"]\n",
    "window   = 60\n",
    "horizon  = 1\n",
    "\n",
    "train_stop = pd.Timestamp(\"2020-01-01\")\n",
    "val_stop   = pd.Timestamp(\"2023-12-31\")\n",
    "\n",
    "df_train = df[df.index < train_stop]\n",
    "df_val   = df[(df.index >= train_stop) & (df.index < val_stop)]\n",
    "df_test  = df[df.index >= val_stop]\n",
    "\n",
    "ds_train = MultiAssetDataset(df_train, tickers, features, window, horizon)\n",
    "ds_val   = MultiAssetDataset(df_val,   tickers, features, window, horizon)\n",
    "ds_test  = MultiAssetDataset(df_test,  tickers, features, window, horizon)\n",
    "\n",
    "train_loader = DataLoader(ds_train, batch_size=32, shuffle=True)\n",
    "val_loader   = DataLoader(ds_val,   batch_size=32)\n",
    "test_loader  = DataLoader(ds_test,  batch_size=32)"
   ]
  },
  {
   "cell_type": "code",
   "execution_count": null,
   "id": "9349b20c",
   "metadata": {},
   "outputs": [
    {
     "name": "stdout",
     "output_type": "stream",
     "text": [
      "Train epoch loss: 0.0010\n",
      "Validation loss: 0.0005\n"
     ]
    }
   ],
   "source": [
    "import torch\n",
    "import torch.nn as nn\n",
    "import torch.optim as optim\n",
    "from multi_asset_models.MultiAssetLSTM import MultiAssetLSTM\n",
    "from Train import Trainer\n",
    "\n",
    "model = MultiAssetLSTM(\n",
    "    n_assets=len(tickers),\n",
    "    n_features=len(features),\n",
    "    hidden_size=64,\n",
    "    num_layers=2,\n",
    "    dropout=0.1,\n",
    "    horizon=horizon\n",
    ")\n",
    "\n",
    "criterion = nn.MSELoss()\n",
    "optimizer = optim.Adam(model.parameters(), lr=1e-3)\n",
    "\n",
    "device = torch.device(\"cuda\" if torch.cuda.is_available() else \"cpu\")\n",
    "model.to(device)\n",
    "\n",
    "# 1) Träningsparametrar\n",
    "num_epochs   = 50\n",
    "patience     = 5        # stopp efter 5 epoker utan förbättring\n",
    "best_val     = float(\"inf\")\n",
    "patience_ctr = 0\n",
    "save_path    = \"best_multiasset_lstm.pt\"\n"
   ]
  },
  {
   "cell_type": "code",
   "execution_count": null,
   "id": "bc46c68f",
   "metadata": {},
   "outputs": [
    {
     "name": "stdout",
     "output_type": "stream",
     "text": [
      "2.293912402617011\n"
     ]
    }
   ],
   "source": [
    "print(val_loss**0.5)"
   ]
  }
 ],
 "metadata": {
  "kernelspec": {
   "display_name": "Python 3",
   "language": "python",
   "name": "python3"
  },
  "language_info": {
   "codemirror_mode": {
    "name": "ipython",
    "version": 3
   },
   "file_extension": ".py",
   "mimetype": "text/x-python",
   "name": "python",
   "nbconvert_exporter": "python",
   "pygments_lexer": "ipython3",
   "version": "3.10.11"
  }
 },
 "nbformat": 4,
 "nbformat_minor": 5
}
