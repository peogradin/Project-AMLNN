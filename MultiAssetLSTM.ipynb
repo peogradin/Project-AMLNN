{
 "cells": [
  {
   "cell_type": "markdown",
   "id": "47f3c048",
   "metadata": {},
   "source": [
    "# Multi-asset forecasting with an LSTM\n",
    "\n",
    "This notebook contains code for training and forecasting 22 stocks from the OMXS30 index\n",
    "with an LSTM model."
   ]
  },
  {
   "cell_type": "code",
   "execution_count": null,
   "id": "3a503485",
   "metadata": {},
   "outputs": [],
   "source": [
    "import pandas as pd\n",
    "import torch\n",
    "from torch.utils.data import DataLoader\n",
    "\n",
    "from data.MultiAssetDataset import MultiAssetDataset\n",
    "from multi_asset_models.MultiAssetLSTM import MultiAssetLSTM"
   ]
  },
  {
   "cell_type": "code",
   "execution_count": null,
   "id": "8011c079",
   "metadata": {},
   "outputs": [],
   "source": []
  }
 ],
 "metadata": {
  "kernelspec": {
   "display_name": "Python 3",
   "language": "python",
   "name": "python3"
  },
  "language_info": {
   "codemirror_mode": {
    "name": "ipython",
    "version": 3
   },
   "file_extension": ".py",
   "mimetype": "text/x-python",
   "name": "python",
   "nbconvert_exporter": "python",
   "pygments_lexer": "ipython3",
   "version": "3.10.11"
  }
 },
 "nbformat": 4,
 "nbformat_minor": 5
}
