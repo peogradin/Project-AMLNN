{
 "cells": [
  {
   "cell_type": "markdown",
   "id": "47f3c048",
   "metadata": {},
   "source": [
    "# Multi-asset forecasting with an LSTM\n",
    "\n",
    "This notebook contains code for training and forecasting 22 stocks from the OMXS30 index\n",
    "with an LSTM model."
   ]
  },
  {
   "cell_type": "markdown",
   "id": "ec25dbf1",
   "metadata": {},
   "source": [
    "Import data and create the dataloader"
   ]
  },
  {
   "cell_type": "code",
   "execution_count": 3,
   "id": "8011c079",
   "metadata": {},
   "outputs": [],
   "source": [
    "import pandas as pd\n",
    "from data.MultiAssetDataset import MultiAssetDataset\n",
    "from torch.utils.data import DataLoader\n",
    "\n",
    "df = pd.read_csv(\"data/OMXS22_model_features_raw.csv\", index_col = \"Date\", parse_dates = True)\n",
    "\n",
    "tickers = df[\"Ticker\"].unique().tolist()\n",
    "features = [\"Return\",\"Volume\",\"SMA20\",\"EMA20\",\"RSI14\",\"ReturnVola20\"]\n",
    "window   = 60\n",
    "horizon  = 100\n",
    "\n",
    "train_stop = pd.Timestamp(\"2020-01-01\")\n",
    "val_stop   = pd.Timestamp(\"2023-12-31\")\n",
    "\n",
    "df_train = df[df.index < train_stop]\n",
    "df_val   = df[(df.index >= train_stop) & (df.index < val_stop)]\n",
    "df_test  = df[df.index >= val_stop]\n",
    "\n",
    "ds_train = MultiAssetDataset(df_train, tickers, features, window, horizon)\n",
    "ds_val   = MultiAssetDataset(df_val,   tickers, features, window, horizon)\n",
    "ds_test  = MultiAssetDataset(df_test,  tickers, features, window, horizon)\n",
    "\n",
    "train_loader = DataLoader(ds_train, batch_size=32, shuffle=True)\n",
    "val_loader   = DataLoader(ds_val,   batch_size=32)\n",
    "test_loader  = DataLoader(ds_test,  batch_size=32)"
   ]
  },
  {
   "cell_type": "code",
   "execution_count": 4,
   "id": "9349b20c",
   "metadata": {},
   "outputs": [
    {
     "name": "stdout",
     "output_type": "stream",
     "text": [
      "Train epoch loss: 0.0303\n",
      "Validation loss: 0.0388\n"
     ]
    }
   ],
   "source": [
    "import torch\n",
    "import torch.nn as nn\n",
    "import torch.optim as optim\n",
    "from multi_asset_models.MultiAssetLSTM import MultiAssetLSTM\n",
    "\n",
    "model = MultiAssetLSTM(\n",
    "    n_assets=len(tickers),\n",
    "    n_features=len(features),\n",
    "    hidden_size=64,\n",
    "    num_layers=2,\n",
    "    dropout=0.1,\n",
    "    horizon=horizon\n",
    ")\n",
    "\n",
    "criterion = nn.MSELoss()\n",
    "optimizer = optim.Adam(model.parameters(), lr=1e-3)\n",
    "\n",
    "model.train()\n",
    "epoch_loss = 0.0\n",
    "for Xb, yb in train_loader:\n",
    "    optimizer.zero_grad()\n",
    "    y_hat = model(Xb)              # (B, A, 1)\n",
    "    loss  = criterion(y_hat, yb)   # MSE across all assets\n",
    "    loss.backward()\n",
    "    optimizer.step()\n",
    "    epoch_loss += loss.item()\n",
    "epoch_loss /= len(train_loader)\n",
    "\n",
    "print(f\"Train epoch loss: {epoch_loss:.4f}\")\n",
    "\n",
    "# 7) Validation\n",
    "model.eval()\n",
    "val_loss = 0.0\n",
    "with torch.no_grad():\n",
    "    for Xb, yb in val_loader:\n",
    "        y_hat = model(Xb)\n",
    "        val_loss += criterion(y_hat, yb).item()\n",
    "val_loss /= len(val_loader)\n",
    "print(f\"Validation loss: {val_loss:.4f}\")"
   ]
  },
  {
   "cell_type": "code",
   "execution_count": 5,
   "id": "bc46c68f",
   "metadata": {},
   "outputs": [
    {
     "name": "stdout",
     "output_type": "stream",
     "text": [
      "3.884540581040912\n"
     ]
    }
   ],
   "source": [
    "print(val_loss*100)"
   ]
  }
 ],
 "metadata": {
  "kernelspec": {
   "display_name": "Python 3",
   "language": "python",
   "name": "python3"
  },
  "language_info": {
   "codemirror_mode": {
    "name": "ipython",
    "version": 3
   },
   "file_extension": ".py",
   "mimetype": "text/x-python",
   "name": "python",
   "nbconvert_exporter": "python",
   "pygments_lexer": "ipython3",
   "version": "3.10.11"
  }
 },
 "nbformat": 4,
 "nbformat_minor": 5
}
